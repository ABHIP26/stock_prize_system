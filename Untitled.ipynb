{
 "cells": [
  {
   "cell_type": "code",
   "execution_count": 1,
   "metadata": {
    "collapsed": true
   },
   "outputs": [],
   "source": [
    "from Tkinter import *"
   ]
  },
  {
   "cell_type": "code",
   "execution_count": 2,
   "metadata": {
    "collapsed": true
   },
   "outputs": [],
   "source": [
    "root = Tk()"
   ]
  },
  {
   "cell_type": "code",
   "execution_count": 3,
   "metadata": {
    "collapsed": false
   },
   "outputs": [
    {
     "data": {
      "text/plain": [
       "''"
      ]
     },
     "execution_count": 3,
     "metadata": {},
     "output_type": "execute_result"
    }
   ],
   "source": [
    "root.title(\"it's me \")"
   ]
  },
  {
   "cell_type": "code",
   "execution_count": 4,
   "metadata": {
    "collapsed": true
   },
   "outputs": [],
   "source": [
    "root.mainloop()"
   ]
  },
  {
   "cell_type": "code",
   "execution_count": null,
   "metadata": {
    "collapsed": true
   },
   "outputs": [],
   "source": [
    "from Tkinter import *\n",
    "from PIL import ImageTk, Image\n",
    "\n",
    "\n",
    "class Project(Frame):\n",
    "    def __init__(self, master):\n",
    "        Frame.__init__(self)\n",
    "        self.img = ImageTk.PhotoImage(Image.open('stok.jpg'))\n",
    "        self.panel = Label(self, image=self.img)\n",
    "        self.panel.pack(side=\"bottom\", fill=\"both\", expand=\"yes\")\n",
    "\n",
    "        self.button = Button(self, text=\"Home\", fg=\"red\", bg=\"blue\")\n",
    "        self.button.grid(columnspan=2)\n",
    "        self.button2 = Button(self, text=\"About Us\", fg=\"red\", bg=\"blue\", command=self.AboutUs)\n",
    "        self.button2.grid(columnspan=2)\n",
    "        self.button3 = Button(self, text=\"LogIn\", fg=\"red\", bg=\"blue\", command=self.LogIn)\n",
    "        self.button3.grid(columnspan=5)\n",
    "\n",
    "        self.pack(side=RIGHT)\n",
    "\n",
    "    def AboutUs(self):\n",
    "        Frame.__init__(self)\n",
    "        self.button4 = Button(self, text=\"About Us\", fg=\"red\", bg=\"blue\")\n",
    "        self.button4.grid(columnspan=2, row=3)\n",
    "        self.button5 = Button(self, text=\"LogIn\", fg=\"red\", bg=\"blue\", command=self.LogIn)\n",
    "        self.button5.grid(columnspan=2, row=4)\n",
    "\n",
    "        self.label = Label(self,\n",
    "                           text=\"This is a simple stock prizes predictor system\\n based Linear Regression analysis method \\n and it uses the technologies like python and mysql database\")\n",
    "        self.label.grid(row=1, sticky=E)\n",
    "\n",
    "        self.pack(side=RIGHT)\n",
    "\n",
    "    def LogIn(self):\n",
    "        Frame.__init__(self)\n",
    "\n",
    "        self.label2 = Label(self, text=\"Please Login In to The system\")\n",
    "        self.label3 = Label(self, text=\"Username\")\n",
    "        self.label3.grid(row=0, sticky=E)\n",
    "        self.label4 = Label(self, text=\"Password\")\n",
    "        self.label4.grid(row=1, sticky=E)\n",
    "        self.entry = Entry(self)\n",
    "        self.entry.grid(row=0, column=1)\n",
    "        self.entry2 = Entry(self)\n",
    "        self.entry2.grid(row=1, column=1)\n",
    "        self.checkbutton = Checkbutton(self, text=\"Keep me logged in\")\n",
    "        self.checkbutton.grid(columnspan=2)\n",
    "        self.button6 = Button(self, text=\"Login\", command=self.Login_btn_clicked)\n",
    "        self.button6.grid(columnspan=2)\n",
    "        self.button7 = Button(self, text=\"Create an Account\", fg=\"red\", bg=\"blue\", command=self.SignUp)\n",
    "        self.button7.grid(columnspan=4)\n",
    "\n",
    "        self.button8 = Button(self, text=\"Home\", fg=\"red\", bg=\"blue\")\n",
    "        self.button8.grid(columnspan=2)\n",
    "        self.button9 = Button(self, text=\"About Us\", fg=\"red\", bg=\"blue\", command=self.AboutUs)\n",
    "        self.button9.grid(columnspan=2)\n",
    "\n",
    "        self.pack(side=RIGHT)\n",
    "\n",
    "    def SignUp(self):\n",
    "        Frame.__init__(self)\n",
    "\n",
    "        self.label5 = Label(self, text=\"Enter the credentials\")\n",
    "        self.label6 = Label(self, text=\"Username\")\n",
    "        self.label7 = Label(self, text=\"Name\")\n",
    "        self.label8 = Label(self, text=\"UIDAI No.\")\n",
    "        self.label9 = Label(self, text=\"Email Id\")\n",
    "        self.label10 = Label(self, text=\"Residential Address\")\n",
    "        self.label11 = Label(self, text=\"Permanant Address\")\n",
    "        self.label12 = Label(self, text=\"Mobile No.\")\n",
    "        self.label13 = Label(self, text=\"Company Name\")\n",
    "        self.label14 = Label(self, text=\"Password\")\n",
    "        self.label15 = Label(self, text=\"Confirm Password\")\n",
    "        self.entry3 = Entry(self)\n",
    "        self.entry4 = Entry(self)\n",
    "        self.entry5 = Entry(self)\n",
    "        self.entry6 = Entry(self)\n",
    "        self.entry7 = Entry(self)\n",
    "        self.entry8 = Entry(self)\n",
    "        self.entry9 = Entry(self)\n",
    "        self.entry10 = Entry(self)\n",
    "        self.entry11 = Entry(self, show=\"*\")\n",
    "        self.entry12 = Entry(self, show=\"*\")\n",
    "        self.label5.grid(row=1, sticky=E)\n",
    "        self.label6.grid(row=2, sticky=E)\n",
    "        self.label7.grid(row=3, sticky=E)\n",
    "        self.label8.grid(row=4, sticky=E)\n",
    "        self.label9.grid(row=5, sticky=E)\n",
    "        self.label10.grid(row=6, sticky=E)\n",
    "        self.label11.grid(row=7, sticky=E)\n",
    "        self.label12.grid(row=8, sticky=E)\n",
    "        self.label13.grid(row=9, sticky=E)\n",
    "        self.label14.grid(row=10, sticky=E)\n",
    "        self.label15.grid(row=11, sticky=E)\n",
    "        self.entry3.grid(row=2, column=2)\n",
    "        self.entry4.grid(row=3, column=2)\n",
    "        self.entry5.grid(row=4, column=2)\n",
    "        self.entry6.grid(row=5, column=2)\n",
    "        self.entry7.grid(row=6, column=2)\n",
    "        self.entry8.grid(row=7, column=2)\n",
    "        self.entry9.grid(row=8, column=2)\n",
    "        self.entry10.grid(row=9, column=2)\n",
    "        self.entry11.grid(row=10, column=2)\n",
    "        self.entry12.grid(row=11, column=2)\n",
    "        self.checkbox2 = Checkbutton(self, text=\"I Agree Terms and Conditions \")\n",
    "        self.checkbox2.grid(columnspan=2)\n",
    "\n",
    "        self.button10 = Button(self, text=\"Create an Account\", bg=\"blue\", fg=\"red\", command=self.signup_btn_clicked)\n",
    "        self.button10.grid(columnspan=3)\n",
    "\n",
    "        self.button11 = Button(self, text=\"Home\", fg=\"red\", bg=\"blue\")\n",
    "        self.button11.grid(columnspan=2)\n",
    "        self.button12 = Button(self, text=\"About Us\", fg=\"red\", bg=\"blue\", command=self.AboutUs)\n",
    "        self.button12.grid(columnspan=2)\n",
    "\n",
    "        self.pack(side=RIGHT)\n",
    "\n",
    "    def signup_btn_clicked(self):\n",
    "        Frame.__init__(self)\n",
    "\n",
    "        addhim = open(\"User-Signup.txt\", \"w\")\n",
    "        addhim.write(\"\\nUsername:\" + self.entry3.get())\n",
    "        addhim.write(\"\\nname :\" + self.entry4.get())\n",
    "        addhim.write(\"\\nUIDAI No\" + self.entry5.get())\n",
    "        addhim.write(\"\\nEmail Id\" + self.entry6.get())\n",
    "        addhim.write(\"\\nResidential Address :\" + self.entry7.get())\n",
    "        addhim.write(\"\\nPermanant Address :\" + self.entry8.get())\n",
    "        addhim.write(\"\\nMobile No. :\" + self.entry9.get())\n",
    "        addhim.write(\"\\nCompany Name :\" + self.entry10.get())\n",
    "        addhim.write(\"\\nPassword :\" + self.entry11.get())\n",
    "        addhim.write(\"\\nRetype Passsword :\" + self.entry12.get())\n",
    "        addhim.close()\n",
    "\n",
    "        self.button13 = Button(self, text=\"About Us\", fg=\"red\", bg=\"blue\", command=self.AboutUs)\n",
    "        self.button13.grid(columnspan=2)\n",
    "        self.button14 = Button(self, text=\"Login\", fg=\"red\", bg=\"blue\", command=self.LogIn)\n",
    "        self.button14.grid(columnspan=2)\n",
    "\n",
    "        self.pack()\n",
    "\n",
    "    def Login_btn_clicked(self):\n",
    "        Frame.__init__(self)\n",
    "\n",
    "        adduser = open(\"User.txt\", \"w\")\n",
    "        adduser.write(\"User ID: \" + self.entry.get())\n",
    "        adduser.write(\"\\nUser Password: \" + self.entry2.get())\n",
    "        adduser.close()\n",
    "\n",
    "        self.button13 = Button(self, text=\"Dashboard\", command=self.Dashboard())\n",
    "        self.button13.grid(comunspan=2)\n",
    "        self.pack()\n",
    "\n",
    "    def Dashboard(self):\n",
    "        Frame.__init__(self)\n",
    "        self.pack()\n",
    "\n",
    "\n",
    "root = Tk()\n",
    "pr = Project(root)\n",
    "root.mainloop()\n"
   ]
  },
  {
   "cell_type": "code",
   "execution_count": null,
   "metadata": {
    "collapsed": true
   },
   "outputs": [],
   "source": []
  }
 ],
 "metadata": {
  "anaconda-cloud": {},
  "kernelspec": {
   "display_name": "Python [conda root]",
   "language": "python",
   "name": "conda-root-py"
  },
  "language_info": {
   "codemirror_mode": {
    "name": "ipython",
    "version": 2
   },
   "file_extension": ".py",
   "mimetype": "text/x-python",
   "name": "python",
   "nbconvert_exporter": "python",
   "pygments_lexer": "ipython2",
   "version": "2.7.12"
  }
 },
 "nbformat": 4,
 "nbformat_minor": 1
}
